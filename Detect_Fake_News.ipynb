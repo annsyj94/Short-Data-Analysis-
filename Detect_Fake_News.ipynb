{
  "nbformat": 4,
  "nbformat_minor": 0,
  "metadata": {
    "colab": {
      "name": "Detect Fake News.ipynb",
      "provenance": [],
      "collapsed_sections": [],
      "authorship_tag": "ABX9TyMrEZtRCJEUqC1qMi12fobz",
      "include_colab_link": true
    },
    "kernelspec": {
      "name": "python3",
      "display_name": "Python 3"
    },
    "language_info": {
      "name": "python"
    }
  },
  "cells": [
    {
      "cell_type": "markdown",
      "metadata": {
        "id": "view-in-github",
        "colab_type": "text"
      },
      "source": [
        "<a href=\"https://colab.research.google.com/github/annsyj94/Fake_News_Detection_Machine_Learning/blob/main/Detect_Fake_News.ipynb\" target=\"_parent\"><img src=\"https://colab.research.google.com/assets/colab-badge.svg\" alt=\"Open In Colab\"/></a>"
      ]
    },
    {
      "cell_type": "code",
      "metadata": {
        "colab": {
          "base_uri": "https://localhost:8080/"
        },
        "id": "SiLerTNUs9Z6",
        "outputId": "b561648e-0cee-4c86-d4a3-1f03fe4e24e4"
      },
      "source": [
        "import pandas as pd \n",
        "import matplotlib.pyplot as plt \n",
        "from sklearn.model_selection import train_test_split \n",
        "from sklearn.feature_extraction.text import TfidfVectorizer \n",
        "from sklearn.metrics import accuracy_score, confusion_matrix \n",
        "from sklearn.linear_model import PassiveAggressiveClassifier \n",
        "import numpy as np\n",
        "\n",
        "# 판다스로 csv 파일 불러오기 \n",
        "sp = pd.read_csv('fake_or_real_news.csv')\n",
        "sp.shape \n",
        "sp.head()"
      ],
      "execution_count": null,
      "outputs": [
        {
          "output_type": "stream",
          "text": [
            "Accuracy: 94.95%\n",
            "[[573  30]\n",
            " [ 34 630]]\n"
          ],
          "name": "stdout"
        }
      ]
    },
    {
      "cell_type": "code",
      "metadata": {
        "id": "57dc1FayC9i2"
      },
      "source": [
        "# 열을 출열하기\n",
        "texts = sp['text']\n",
        "labels = sp['label']\n",
        "labels.head()"
      ],
      "execution_count": null,
      "outputs": []
    },
    {
      "cell_type": "code",
      "metadata": {
        "id": "EGi7vvZ-DAfx"
      },
      "source": [
        "#Training And Test Data\n",
        "train_input,test_input,train_target,test_target = train_test_split(texts, labels, test_size = 0.2, random_state = 10)"
      ],
      "execution_count": null,
      "outputs": []
    },
    {
      "cell_type": "code",
      "metadata": {
        "id": "uls0DHoKDDmZ"
      },
      "source": [
        "# TfidVectorizer 기능 \n",
        "tfidf_vectorizer = TfidfVectorizer(use_idf=True)"
      ],
      "execution_count": null,
      "outputs": []
    },
    {
      "cell_type": "code",
      "metadata": {
        "id": "GL9bAAcvDNal"
      },
      "source": [
        "\n",
        "# train_set 및 test_set 예측하고 변환하기 \n",
        "tfidf_train=tfidf_vectorizer.fit_transform(train_input) \n",
        "tfidf_test=tfidf_vectorizer.transform(test_input)"
      ],
      "execution_count": null,
      "outputs": []
    },
    {
      "cell_type": "code",
      "metadata": {
        "id": "p0hCVz9NDTBs"
      },
      "source": [
        "#PassiveAggressived\n",
        "pac = PassiveAggressiveClassifier (max_iter=50)\n",
        "pac.fit(tfidf_train,train_target) \n",
        "\n",
        "#예측하고 accuracy 값 구하기 \n",
        "y_pred=pac.predict(tfidf_test)\n",
        "score=accuracy_score(test_target,y_pred)\n",
        "print(f'Accuracy: {round(score*100,2)}%')"
      ],
      "execution_count": null,
      "outputs": []
    },
    {
      "cell_type": "code",
      "metadata": {
        "id": "PlQrZTWeDWLF"
      },
      "source": [
        "# confusion matrix 사용하기 \n",
        "news = metrics.confusion_matrix(test_target,y_pred, labels=['FAKE','REAL'])\n",
        "print(news)"
      ],
      "execution_count": null,
      "outputs": []
    },
    {
      "cell_type": "code",
      "metadata": {
        "id": "vaEUD_GXDbSB"
      },
      "source": [
        "# Our model successfully predicted 573 positives. \n",
        "# Our model successfully predicted 630 negatives. \n",
        "# Our model predicted 30 false positives.\n",
        "# Our model predicted 34 false negatives."
      ],
      "execution_count": null,
      "outputs": []
    }
  ]
}