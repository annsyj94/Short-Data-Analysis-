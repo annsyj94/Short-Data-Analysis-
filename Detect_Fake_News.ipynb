{
  "nbformat": 4,
  "nbformat_minor": 0,
  "metadata": {
    "colab": {
      "name": "Detect Fake News.ipynb",
      "provenance": [],
      "collapsed_sections": [],
      "authorship_tag": "ABX9TyOGw2c6kebOH15uWD39YpXl",
      "include_colab_link": true
    },
    "kernelspec": {
      "name": "python3",
      "display_name": "Python 3"
    },
    "language_info": {
      "name": "python"
    }
  },
  "cells": [
    {
      "cell_type": "markdown",
      "metadata": {
        "id": "view-in-github",
        "colab_type": "text"
      },
      "source": [
        "<a href=\"https://colab.research.google.com/github/annsyj94/Fake_News_Detection_Machine_Learning/blob/main/Detect_Fake_News.ipynb\" target=\"_parent\"><img src=\"https://colab.research.google.com/assets/colab-badge.svg\" alt=\"Open In Colab\"/></a>"
      ]
    },
    {
      "cell_type": "code",
      "metadata": {
        "colab": {
          "base_uri": "https://localhost:8080/",
          "height": 197
        },
        "id": "SiLerTNUs9Z6",
        "outputId": "b3243f7b-271b-448b-9b5d-d56c7cf39873"
      },
      "source": [
        "import pandas as pd \n",
        "import matplotlib.pyplot as plt \n",
        "from sklearn.model_selection import train_test_split \n",
        "from sklearn.feature_extraction.text import TfidfVectorizer \n",
        "from sklearn.metrics import accuracy_score, confusion_matrix \n",
        "from sklearn.linear_model import PassiveAggressiveClassifier \n",
        "import numpy as np\n",
        "\n",
        "# 판다스로 csv 파일 불러오기 \n",
        "sp = pd.read_csv('fake_or_real_news.csv')\n",
        "sp.shape \n",
        "sp.head()"
      ],
      "execution_count": 2,
      "outputs": [
        {
          "output_type": "execute_result",
          "data": {
            "text/html": [
              "<div>\n",
              "<style scoped>\n",
              "    .dataframe tbody tr th:only-of-type {\n",
              "        vertical-align: middle;\n",
              "    }\n",
              "\n",
              "    .dataframe tbody tr th {\n",
              "        vertical-align: top;\n",
              "    }\n",
              "\n",
              "    .dataframe thead th {\n",
              "        text-align: right;\n",
              "    }\n",
              "</style>\n",
              "<table border=\"1\" class=\"dataframe\">\n",
              "  <thead>\n",
              "    <tr style=\"text-align: right;\">\n",
              "      <th></th>\n",
              "      <th>Unnamed: 0</th>\n",
              "      <th>title</th>\n",
              "      <th>text</th>\n",
              "      <th>label</th>\n",
              "    </tr>\n",
              "  </thead>\n",
              "  <tbody>\n",
              "    <tr>\n",
              "      <th>0</th>\n",
              "      <td>8476</td>\n",
              "      <td>You Can Smell Hillary’s Fear</td>\n",
              "      <td>Daniel Greenfield, a Shillman Journalism Fello...</td>\n",
              "      <td>FAKE</td>\n",
              "    </tr>\n",
              "    <tr>\n",
              "      <th>1</th>\n",
              "      <td>10294</td>\n",
              "      <td>Watch The Exact Moment Paul Ryan Committed Pol...</td>\n",
              "      <td>Google Pinterest Digg Linkedin Reddit Stumbleu...</td>\n",
              "      <td>FAKE</td>\n",
              "    </tr>\n",
              "    <tr>\n",
              "      <th>2</th>\n",
              "      <td>3608</td>\n",
              "      <td>Kerry to go to Paris in gesture of sympathy</td>\n",
              "      <td>U.S. Secretary of State John F. Kerry said Mon...</td>\n",
              "      <td>REAL</td>\n",
              "    </tr>\n",
              "    <tr>\n",
              "      <th>3</th>\n",
              "      <td>10142</td>\n",
              "      <td>Bernie supporters on Twitter erupt in anger ag...</td>\n",
              "      <td>— Kaydee King (@KaydeeKing) November 9, 2016 T...</td>\n",
              "      <td>FAKE</td>\n",
              "    </tr>\n",
              "    <tr>\n",
              "      <th>4</th>\n",
              "      <td>875</td>\n",
              "      <td>The Battle of New York: Why This Primary Matters</td>\n",
              "      <td>It's primary day in New York and front-runners...</td>\n",
              "      <td>REAL</td>\n",
              "    </tr>\n",
              "  </tbody>\n",
              "</table>\n",
              "</div>"
            ],
            "text/plain": [
              "   Unnamed: 0  ... label\n",
              "0        8476  ...  FAKE\n",
              "1       10294  ...  FAKE\n",
              "2        3608  ...  REAL\n",
              "3       10142  ...  FAKE\n",
              "4         875  ...  REAL\n",
              "\n",
              "[5 rows x 4 columns]"
            ]
          },
          "metadata": {
            "tags": []
          },
          "execution_count": 2
        }
      ]
    },
    {
      "cell_type": "code",
      "metadata": {
        "id": "57dc1FayC9i2",
        "outputId": "ab1a116c-8482-4cc0-ab9f-5c80fb0f4cdb",
        "colab": {
          "base_uri": "https://localhost:8080/"
        }
      },
      "source": [
        "# 열을 출열하기\n",
        "texts = sp['text']\n",
        "labels = sp['label']\n",
        "labels.head()"
      ],
      "execution_count": 3,
      "outputs": [
        {
          "output_type": "execute_result",
          "data": {
            "text/plain": [
              "0    FAKE\n",
              "1    FAKE\n",
              "2    REAL\n",
              "3    FAKE\n",
              "4    REAL\n",
              "Name: label, dtype: object"
            ]
          },
          "metadata": {
            "tags": []
          },
          "execution_count": 3
        }
      ]
    },
    {
      "cell_type": "code",
      "metadata": {
        "id": "EGi7vvZ-DAfx"
      },
      "source": [
        "#Training And Test Data\n",
        "train_input,test_input,train_target,test_target = train_test_split(texts, labels, test_size = 0.2, random_state = 10)"
      ],
      "execution_count": 4,
      "outputs": []
    },
    {
      "cell_type": "code",
      "metadata": {
        "id": "uls0DHoKDDmZ"
      },
      "source": [
        "# TfidVectorizer 기능 \n",
        "tfidf_vectorizer = TfidfVectorizer(use_idf=True)"
      ],
      "execution_count": 5,
      "outputs": []
    },
    {
      "cell_type": "code",
      "metadata": {
        "id": "GL9bAAcvDNal"
      },
      "source": [
        "\n",
        "# train_set 및 test_set 예측하고 변환하기 \n",
        "tfidf_train=tfidf_vectorizer.fit_transform(train_input) \n",
        "tfidf_test=tfidf_vectorizer.transform(test_input)"
      ],
      "execution_count": 6,
      "outputs": []
    },
    {
      "cell_type": "code",
      "metadata": {
        "id": "p0hCVz9NDTBs",
        "outputId": "3aa831b9-544f-48b4-ac41-aa2898c3608d",
        "colab": {
          "base_uri": "https://localhost:8080/"
        }
      },
      "source": [
        "#PassiveAggressived\n",
        "pac = PassiveAggressiveClassifier (max_iter=50)\n",
        "pac.fit(tfidf_train,train_target) \n",
        "\n",
        "#예측하고 accuracy 값 구하기 \n",
        "y_pred=pac.predict(tfidf_test)\n",
        "score=accuracy_score(test_target,y_pred)\n",
        "print(f'Accuracy: {round(score*100,2)}%')"
      ],
      "execution_count": 7,
      "outputs": [
        {
          "output_type": "stream",
          "text": [
            "Accuracy: 94.95%\n"
          ],
          "name": "stdout"
        }
      ]
    },
    {
      "cell_type": "code",
      "metadata": {
        "id": "PlQrZTWeDWLF",
        "outputId": "cafef7f2-a21e-4183-ad90-ebf566905461",
        "colab": {
          "base_uri": "https://localhost:8080/"
        }
      },
      "source": [
        "# confusion matrix 사용하기 \n",
        "news = confusion_matrix(test_target,y_pred, labels=['FAKE','REAL'])\n",
        "print(news)"
      ],
      "execution_count": 9,
      "outputs": [
        {
          "output_type": "stream",
          "text": [
            "[[569  34]\n",
            " [ 30 634]]\n"
          ],
          "name": "stdout"
        }
      ]
    },
    {
      "cell_type": "code",
      "metadata": {
        "id": "vaEUD_GXDbSB"
      },
      "source": [
        "# Our model successfully predicted 573 positives. \n",
        "# Our model successfully predicted 630 negatives. \n",
        "# Our model predicted 30 false positives.\n",
        "# Our model predicted 34 false negatives."
      ],
      "execution_count": null,
      "outputs": []
    }
  ]
}