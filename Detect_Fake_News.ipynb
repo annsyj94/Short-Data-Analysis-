{
  "nbformat": 4,
  "nbformat_minor": 0,
  "metadata": {
    "colab": {
      "name": "Detect Fake News.ipynb",
      "provenance": [],
      "collapsed_sections": [],
      "authorship_tag": "ABX9TyPOLqOo+eerCA9O/KGulRYo",
      "include_colab_link": true
    },
    "kernelspec": {
      "name": "python3",
      "display_name": "Python 3"
    },
    "language_info": {
      "name": "python"
    }
  },
  "cells": [
    {
      "cell_type": "markdown",
      "metadata": {
        "id": "view-in-github",
        "colab_type": "text"
      },
      "source": [
        "<a href=\"https://colab.research.google.com/github/annsyj94/Fake_News_Detection_Machine_Learning/blob/main/Detect_Fake_News.ipynb\" target=\"_parent\"><img src=\"https://colab.research.google.com/assets/colab-badge.svg\" alt=\"Open In Colab\"/></a>"
      ]
    },
    {
      "cell_type": "code",
      "metadata": {
        "colab": {
          "base_uri": "https://localhost:8080/"
        },
        "id": "SiLerTNUs9Z6",
        "outputId": "b561648e-0cee-4c86-d4a3-1f03fe4e24e4"
      },
      "source": [
        "import pandas as pd \n",
        "import matplotlib.pyplot as plt \n",
        "from sklearn.model_selection import train_test_split \n",
        "from sklearn.feature_extraction.text import TfidfVectorizer \n",
        "from sklearn.metrics import accuracy_score, confusion_matrix \n",
        "from sklearn.linear_model import PassiveAggressiveClassifier \n",
        "import numpy as np\n",
        "\n",
        "# 판다스로 csv 파일 불러오기 \n",
        "sp = pd.read_csv('fake_or_real_news.csv')\n",
        "sp.shape \n",
        "sp.head()\n",
        "\n",
        "# 열을 출열하기\n",
        "texts = sp['text']\n",
        "labels = sp['label']\n",
        "labels.head()\n",
        "\n",
        "#Training And Test Data\n",
        "train_input,test_input,train_target,test_target = train_test_split(texts, labels, test_size = 0.2, random_state = 10)\n",
        "\n",
        "# TfidVectorizer 기능 \n",
        "tfidf_vectorizer = TfidfVectorizer(use_idf=True)\n",
        "\n",
        "# train_set 및 test_set 예측하고 변환하기 \n",
        "tfidf_train=tfidf_vectorizer.fit_transform(train_input) \n",
        "tfidf_test=tfidf_vectorizer.transform(test_input)\n",
        "\n",
        "#PassiveAggressived\n",
        "pac = PassiveAggressiveClassifier (max_iter=50)\n",
        "pac.fit(tfidf_train,train_target) \n",
        "\n",
        "#예측하고 accuracy 값 구하기 \n",
        "y_pred=pac.predict(tfidf_test)\n",
        "score=accuracy_score(test_target,y_pred)\n",
        "print(f'Accuracy: {round(score*100,2)}%')\n",
        "\n",
        "# confusion matrix 사용하기 \n",
        "news = metrics.confusion_matrix(test_target,y_pred, labels=['FAKE','REAL'])\n",
        "print(news)\n",
        "\n",
        "# Our model successfully predicted 573 positives. \n",
        "# Our model successfully predicted 630 negatives. \n",
        "# Our model predicted 30 false positives.\n",
        "# Our model predicted 34 false negatives."
      ],
      "execution_count": null,
      "outputs": [
        {
          "output_type": "stream",
          "text": [
            "Accuracy: 94.95%\n",
            "[[573  30]\n",
            " [ 34 630]]\n"
          ],
          "name": "stdout"
        }
      ]
    }
  ]
}